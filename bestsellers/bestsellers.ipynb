{
 "cells": [
  {
   "cell_type": "code",
   "execution_count": 2,
   "id": "475a22af-6f46-4e3d-a67b-97d213e3e7d7",
   "metadata": {},
   "outputs": [
    {
     "name": "stdout",
     "output_type": "stream",
     "text": [
      "Defaulting to user installation because normal site-packages is not writeable\n",
      "Looking in links: /usr/share/pip-wheels\n",
      "Requirement already satisfied: pandas in /opt/conda/envs/anaconda-2024.02-py310/lib/python3.10/site-packages (2.1.4)\n",
      "Requirement already satisfied: numpy<2,>=1.22.4 in /opt/conda/envs/anaconda-2024.02-py310/lib/python3.10/site-packages (from pandas) (1.26.4)\n",
      "Requirement already satisfied: python-dateutil>=2.8.2 in /opt/conda/envs/anaconda-2024.02-py310/lib/python3.10/site-packages (from pandas) (2.8.2)\n",
      "Requirement already satisfied: pytz>=2020.1 in /opt/conda/envs/anaconda-2024.02-py310/lib/python3.10/site-packages (from pandas) (2023.3.post1)\n",
      "Requirement already satisfied: tzdata>=2022.1 in /opt/conda/envs/anaconda-2024.02-py310/lib/python3.10/site-packages (from pandas) (2023.3)\n",
      "Requirement already satisfied: six>=1.5 in /opt/conda/envs/anaconda-2024.02-py310/lib/python3.10/site-packages (from python-dateutil>=2.8.2->pandas) (1.16.0)\n",
      "Note: you may need to restart the kernel to use updated packages.\n"
     ]
    }
   ],
   "source": [
    "pip install pandas"
   ]
  },
  {
   "cell_type": "code",
   "execution_count": 3,
   "id": "5a2df724-e6f9-478a-a37a-f3b9329709cc",
   "metadata": {},
   "outputs": [],
   "source": [
    "import pandas as pd\n",
    "\n",
    "df = pd.read_csv('bestsellers.csv')"
   ]
  },
  {
   "cell_type": "code",
   "execution_count": 4,
   "id": "3ee7c807-d6f5-4c76-822f-0f6253635376",
   "metadata": {},
   "outputs": [
    {
     "name": "stdout",
     "output_type": "stream",
     "text": [
      "                                                  Name  \\\n",
      "0                        10-Day Green Smoothie Cleanse   \n",
      "1                                    11/22/63: A Novel   \n",
      "2              12 Rules for Life: An Antidote to Chaos   \n",
      "3                               1984 (Signet Classics)   \n",
      "4    5,000 Awesome Facts (About Everything!) (Natio...   \n",
      "..                                                 ...   \n",
      "545       Wrecking Ball (Diary of a Wimpy Kid Book 14)   \n",
      "546  You Are a Badass: How to Stop Doubting Your Gr...   \n",
      "547  You Are a Badass: How to Stop Doubting Your Gr...   \n",
      "548  You Are a Badass: How to Stop Doubting Your Gr...   \n",
      "549  You Are a Badass: How to Stop Doubting Your Gr...   \n",
      "\n",
      "                       Author  User Rating  Reviews  Price  Year        Genre  \n",
      "0                    JJ Smith          4.7    17350      8  2016  Non Fiction  \n",
      "1                Stephen King          4.6     2052     22  2011      Fiction  \n",
      "2          Jordan B. Peterson          4.7    18979     15  2018  Non Fiction  \n",
      "3               George Orwell          4.7    21424      6  2017      Fiction  \n",
      "4    National Geographic Kids          4.8     7665     12  2019  Non Fiction  \n",
      "..                        ...          ...      ...    ...   ...          ...  \n",
      "545               Jeff Kinney          4.9     9413      8  2019      Fiction  \n",
      "546               Jen Sincero          4.7    14331      8  2016  Non Fiction  \n",
      "547               Jen Sincero          4.7    14331      8  2017  Non Fiction  \n",
      "548               Jen Sincero          4.7    14331      8  2018  Non Fiction  \n",
      "549               Jen Sincero          4.7    14331      8  2019  Non Fiction  \n",
      "\n",
      "[550 rows x 7 columns]\n"
     ]
    }
   ],
   "source": [
    "print(df)"
   ]
  },
  {
   "cell_type": "code",
   "execution_count": 9,
   "id": "2706ceb1-26d4-4d62-b48f-b0e40e82c961",
   "metadata": {},
   "outputs": [
    {
     "name": "stdout",
     "output_type": "stream",
     "text": [
      "                                                Name  \\\n",
      "0                      10-Day Green Smoothie Cleanse   \n",
      "1                                  11/22/63: A Novel   \n",
      "2            12 Rules for Life: An Antidote to Chaos   \n",
      "3                             1984 (Signet Classics)   \n",
      "4  5,000 Awesome Facts (About Everything!) (Natio...   \n",
      "\n",
      "                     Author  User Rating  Reviews  Price  Year        Genre  \n",
      "0                  JJ Smith          4.7    17350      8  2016  Non Fiction  \n",
      "1              Stephen King          4.6     2052     22  2011      Fiction  \n",
      "2        Jordan B. Peterson          4.7    18979     15  2018  Non Fiction  \n",
      "3             George Orwell          4.7    21424      6  2017      Fiction  \n",
      "4  National Geographic Kids          4.8     7665     12  2019  Non Fiction  \n",
      "(550, 7)\n",
      "Index(['Name', 'Author', 'User Rating', 'Reviews', 'Price', 'Year', 'Genre'], dtype='object')\n",
      "       User Rating       Reviews       Price         Year\n",
      "count   550.000000    550.000000  550.000000   550.000000\n",
      "mean      4.618364  11953.281818   13.100000  2014.000000\n",
      "std       0.226980  11731.132017   10.842262     3.165156\n",
      "min       3.300000     37.000000    0.000000  2009.000000\n",
      "25%       4.500000   4058.000000    7.000000  2011.000000\n",
      "50%       4.700000   8580.000000   11.000000  2014.000000\n",
      "75%       4.800000  17253.250000   16.000000  2017.000000\n",
      "max       4.900000  87841.000000  105.000000  2019.000000\n"
     ]
    }
   ],
   "source": [
    "# Get the first 5 rows of the spreadsheet\n",
    "print(df.head())\n",
    "\n",
    "# Get the shape of the spreadsheet\n",
    "print(df.shape)\n",
    "\n",
    "# Get the column names of the spreadsheet\n",
    "print(df.columns)\n",
    "\n",
    "# Get summary statistics for each column\n",
    "print(df.describe())"
   ]
  },
  {
   "cell_type": "code",
   "execution_count": 10,
   "id": "874ce698-43d5-49d8-9c95-ad56a456ade8",
   "metadata": {},
   "outputs": [],
   "source": [
    "df.drop_duplicates(inplace=True)"
   ]
  },
  {
   "cell_type": "code",
   "execution_count": 11,
   "id": "0b2e9bb4-e05b-4116-a858-fdd61698a7fc",
   "metadata": {},
   "outputs": [],
   "source": [
    "df.rename(columns={\"Name\": \"Title\", \"Year\": \"Publication Year\", \"User Rating\": \"Rating\"}, inplace=True)"
   ]
  },
  {
   "cell_type": "code",
   "execution_count": 12,
   "id": "18653071-3157-43da-bfdf-063d6feeffbc",
   "metadata": {},
   "outputs": [],
   "source": [
    "df[\"Price\"] = df[\"Price\"].astype(float)"
   ]
  },
  {
   "cell_type": "code",
   "execution_count": 13,
   "id": "d5c6454f-2860-45c9-b520-7bef7489f905",
   "metadata": {},
   "outputs": [
    {
     "name": "stdout",
     "output_type": "stream",
     "text": [
      "Author\n",
      "Jeff Kinney                           12\n",
      "Rick Riordan                          11\n",
      "Suzanne Collins                       11\n",
      "Gary Chapman                          11\n",
      "American Psychological Association    10\n",
      "                                      ..\n",
      "Geneen Roth                            1\n",
      "Alan Moore                             1\n",
      "Sara Gruen                             1\n",
      "Hillary Rodham Clinton                 1\n",
      "Randall Munroe                         1\n",
      "Name: count, Length: 248, dtype: int64\n"
     ]
    }
   ],
   "source": [
    "author_counts = df['Author'].value_counts()\n",
    "print(author_counts)"
   ]
  },
  {
   "cell_type": "code",
   "execution_count": 14,
   "id": "4df80a91-cae5-4fcb-816d-7491e4e8b981",
   "metadata": {},
   "outputs": [
    {
     "name": "stdout",
     "output_type": "stream",
     "text": [
      "Genre\n",
      "Fiction        4.648333\n",
      "Non Fiction    4.595161\n",
      "Name: Rating, dtype: float64\n"
     ]
    }
   ],
   "source": [
    "avg_rating_by_genre = df.groupby(\"Genre\")[\"Rating\"].mean()\n",
    "print(avg_rating_by_genre)"
   ]
  },
  {
   "cell_type": "code",
   "execution_count": 15,
   "id": "eded52b4-d834-4456-b167-fa518d88d75c",
   "metadata": {},
   "outputs": [],
   "source": [
    "# Export top selling authors to a CSV file\n",
    "author_counts.head(10).to_csv(\"top_authors.csv\")\n",
    "\n",
    "# Export average rating by genre to a CSV file\n",
    "avg_rating_by_genre.to_csv(\"avg_rating_by_genre.csv\")"
   ]
  },
  {
   "cell_type": "code",
   "execution_count": null,
   "id": "931bfb03-1844-4789-b499-315fd64b9f83",
   "metadata": {},
   "outputs": [],
   "source": []
  }
 ],
 "metadata": {
  "kernelspec": {
   "display_name": "anaconda-2024.02-py310",
   "language": "python",
   "name": "conda-env-anaconda-2024.02-py310-py"
  },
  "language_info": {
   "codemirror_mode": {
    "name": "ipython",
    "version": 3
   },
   "file_extension": ".py",
   "mimetype": "text/x-python",
   "name": "python",
   "nbconvert_exporter": "python",
   "pygments_lexer": "ipython3",
   "version": "3.10.14"
  }
 },
 "nbformat": 4,
 "nbformat_minor": 5
}
